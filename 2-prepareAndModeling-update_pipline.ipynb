{
 "cells": [
  {
   "cell_type": "code",
   "execution_count": 5,
   "metadata": {},
   "outputs": [],
   "source": [
    "import pandas  as pd\n",
    "import numpy as np\n",
    "import matplotlib.pyplot as plt\n",
    "import seaborn as sns\n",
    "\n",
    "from sklearn.preprocessing import LabelEncoder\n",
    "from sklearn.preprocessing import OneHotEncoder\n",
    "from sklearn.model_selection import train_test_split\n",
    "from sklearn.preprocessing import Normalizer\n",
    "from sklearn.decomposition import PCA\n",
    "from sklearn.linear_model import LinearRegression\n",
    "from xgboost import XGBRegressor\n",
    "from sklearn.tree import DecisionTreeRegressor\n",
    "from sklearn.ensemble import BaggingRegressor\n",
    "from sklearn.svm import SVR\n",
    "from sklearn.ensemble import RandomForestRegressor\n",
    "from sklearn.ensemble import AdaBoostRegressor\n",
    "from sklearn.metrics import mean_squared_error\n",
    "\n",
    "import pickle as pkl\n",
    "import os\n"
   ]
  },
  {
   "cell_type": "code",
   "execution_count": 6,
   "metadata": {},
   "outputs": [
    {
     "data": {
      "text/html": [
       "<div>\n",
       "<style scoped>\n",
       "    .dataframe tbody tr th:only-of-type {\n",
       "        vertical-align: middle;\n",
       "    }\n",
       "\n",
       "    .dataframe tbody tr th {\n",
       "        vertical-align: top;\n",
       "    }\n",
       "\n",
       "    .dataframe thead th {\n",
       "        text-align: right;\n",
       "    }\n",
       "</style>\n",
       "<table border=\"1\" class=\"dataframe\">\n",
       "  <thead>\n",
       "    <tr style=\"text-align: right;\">\n",
       "      <th></th>\n",
       "      <th>Listing ID</th>\n",
       "      <th>Listing Name</th>\n",
       "      <th>Host ID</th>\n",
       "      <th>Host Name</th>\n",
       "      <th>Host Since</th>\n",
       "      <th>Host Response Time</th>\n",
       "      <th>Host Response Rate</th>\n",
       "      <th>Is Superhost</th>\n",
       "      <th>neighbourhood</th>\n",
       "      <th>Neighborhood Group</th>\n",
       "      <th>...</th>\n",
       "      <th>Overall Rating</th>\n",
       "      <th>Accuracy Rating</th>\n",
       "      <th>Cleanliness Rating</th>\n",
       "      <th>Checkin Rating</th>\n",
       "      <th>Communication Rating</th>\n",
       "      <th>Location Rating</th>\n",
       "      <th>Value Rating</th>\n",
       "      <th>Instant Bookable</th>\n",
       "      <th>Business Travel Ready</th>\n",
       "      <th>Price</th>\n",
       "    </tr>\n",
       "  </thead>\n",
       "  <tbody>\n",
       "    <tr>\n",
       "      <th>0</th>\n",
       "      <td>19665213.0</td>\n",
       "      <td>*</td>\n",
       "      <td>156079597.0</td>\n",
       "      <td>Maximilian</td>\n",
       "      <td>2016-01-20</td>\n",
       "      <td>NaN</td>\n",
       "      <td>NaN</td>\n",
       "      <td>f</td>\n",
       "      <td>Prenzlauer Berg</td>\n",
       "      <td>Pankow</td>\n",
       "      <td>...</td>\n",
       "      <td>100.0</td>\n",
       "      <td>10.0</td>\n",
       "      <td>10.0</td>\n",
       "      <td>10.0</td>\n",
       "      <td>10.0</td>\n",
       "      <td>9.0</td>\n",
       "      <td>10.0</td>\n",
       "      <td>t</td>\n",
       "      <td>f</td>\n",
       "      <td>26.0</td>\n",
       "    </tr>\n",
       "    <tr>\n",
       "      <th>1</th>\n",
       "      <td>6436842.0</td>\n",
       "      <td>*</td>\n",
       "      <td>5302290.0</td>\n",
       "      <td>Dulie</td>\n",
       "      <td>2013-04-07</td>\n",
       "      <td>NaN</td>\n",
       "      <td>NaN</td>\n",
       "      <td>f</td>\n",
       "      <td>Pankow</td>\n",
       "      <td>Pankow</td>\n",
       "      <td>...</td>\n",
       "      <td>90.0</td>\n",
       "      <td>9.0</td>\n",
       "      <td>9.0</td>\n",
       "      <td>10.0</td>\n",
       "      <td>10.0</td>\n",
       "      <td>9.0</td>\n",
       "      <td>10.0</td>\n",
       "      <td>f</td>\n",
       "      <td>f</td>\n",
       "      <td>41.0</td>\n",
       "    </tr>\n",
       "    <tr>\n",
       "      <th>2</th>\n",
       "      <td>10559468.0</td>\n",
       "      <td>*</td>\n",
       "      <td>59151456.0</td>\n",
       "      <td>Geank</td>\n",
       "      <td>2016-02-07</td>\n",
       "      <td>NaN</td>\n",
       "      <td>NaN</td>\n",
       "      <td>f</td>\n",
       "      <td>Prenzlauer Berg</td>\n",
       "      <td>Pankow</td>\n",
       "      <td>...</td>\n",
       "      <td>100.0</td>\n",
       "      <td>10.0</td>\n",
       "      <td>10.0</td>\n",
       "      <td>10.0</td>\n",
       "      <td>10.0</td>\n",
       "      <td>10.0</td>\n",
       "      <td>10.0</td>\n",
       "      <td>f</td>\n",
       "      <td>f</td>\n",
       "      <td>50.0</td>\n",
       "    </tr>\n",
       "    <tr>\n",
       "      <th>3</th>\n",
       "      <td>27215482.0</td>\n",
       "      <td>*</td>\n",
       "      <td>193452785.0</td>\n",
       "      <td>Alix</td>\n",
       "      <td>2018-06-26</td>\n",
       "      <td>NaN</td>\n",
       "      <td>NaN</td>\n",
       "      <td>f</td>\n",
       "      <td>Friedrichshain</td>\n",
       "      <td>Friedrichshain-Kreuzberg</td>\n",
       "      <td>...</td>\n",
       "      <td>100.0</td>\n",
       "      <td>10.0</td>\n",
       "      <td>10.0</td>\n",
       "      <td>10.0</td>\n",
       "      <td>10.0</td>\n",
       "      <td>10.0</td>\n",
       "      <td>9.0</td>\n",
       "      <td>f</td>\n",
       "      <td>f</td>\n",
       "      <td>50.0</td>\n",
       "    </tr>\n",
       "    <tr>\n",
       "      <th>4</th>\n",
       "      <td>27287546.0</td>\n",
       "      <td>*</td>\n",
       "      <td>205870244.0</td>\n",
       "      <td>Lurina</td>\n",
       "      <td>2013-05-16</td>\n",
       "      <td>within a few hours</td>\n",
       "      <td>92%</td>\n",
       "      <td>t</td>\n",
       "      <td>Prenzlauer Berg</td>\n",
       "      <td>Pankow</td>\n",
       "      <td>...</td>\n",
       "      <td>NaN</td>\n",
       "      <td>NaN</td>\n",
       "      <td>NaN</td>\n",
       "      <td>NaN</td>\n",
       "      <td>NaN</td>\n",
       "      <td>NaN</td>\n",
       "      <td>NaN</td>\n",
       "      <td>t</td>\n",
       "      <td>f</td>\n",
       "      <td>55.0</td>\n",
       "    </tr>\n",
       "  </tbody>\n",
       "</table>\n",
       "<p>5 rows × 39 columns</p>\n",
       "</div>"
      ],
      "text/plain": [
       "   Listing ID Listing Name      Host ID   Host Name  Host Since  \\\n",
       "0  19665213.0            *  156079597.0  Maximilian  2016-01-20   \n",
       "1   6436842.0            *    5302290.0       Dulie  2013-04-07   \n",
       "2  10559468.0            *   59151456.0       Geank  2016-02-07   \n",
       "3  27215482.0            *  193452785.0        Alix  2018-06-26   \n",
       "4  27287546.0            *  205870244.0      Lurina  2013-05-16   \n",
       "\n",
       "   Host Response Time Host Response Rate Is Superhost    neighbourhood  \\\n",
       "0                 NaN                NaN            f  Prenzlauer Berg   \n",
       "1                 NaN                NaN            f           Pankow   \n",
       "2                 NaN                NaN            f  Prenzlauer Berg   \n",
       "3                 NaN                NaN            f   Friedrichshain   \n",
       "4  within a few hours                92%            t  Prenzlauer Berg   \n",
       "\n",
       "         Neighborhood Group  ... Overall Rating Accuracy Rating  \\\n",
       "0                    Pankow  ...          100.0            10.0   \n",
       "1                    Pankow  ...           90.0             9.0   \n",
       "2                    Pankow  ...          100.0            10.0   \n",
       "3  Friedrichshain-Kreuzberg  ...          100.0            10.0   \n",
       "4                    Pankow  ...            NaN             NaN   \n",
       "\n",
       "  Cleanliness Rating Checkin Rating  Communication Rating  Location Rating  \\\n",
       "0               10.0           10.0                  10.0              9.0   \n",
       "1                9.0           10.0                  10.0              9.0   \n",
       "2               10.0           10.0                  10.0             10.0   \n",
       "3               10.0           10.0                  10.0             10.0   \n",
       "4                NaN            NaN                   NaN              NaN   \n",
       "\n",
       "  Value Rating Instant Bookable Business Travel Ready Price  \n",
       "0         10.0                t                     f  26.0  \n",
       "1         10.0                f                     f  41.0  \n",
       "2         10.0                f                     f  50.0  \n",
       "3          9.0                f                     f  50.0  \n",
       "4          NaN                t                     f  55.0  \n",
       "\n",
       "[5 rows x 39 columns]"
      ]
     },
     "execution_count": 6,
     "metadata": {},
     "output_type": "execute_result"
    }
   ],
   "source": [
    "#import train dataframe\n",
    "train_df = pd.read_csv('train_airbnb_berlin.csv')\n",
    "train_df.head()\n"
   ]
  },
  {
   "cell_type": "markdown",
   "metadata": {},
   "source": [
    "## Data Prepration"
   ]
  },
  {
   "cell_type": "markdown",
   "metadata": {},
   "source": [
    "### Remove useless columns"
   ]
  },
  {
   "cell_type": "code",
   "execution_count": 7,
   "metadata": {},
   "outputs": [],
   "source": [
    "#drop unneeded columns in prediction\n",
    "removal_columns =['Listing ID','Listing Name','Host ID','Host Name','neighbourhood',\n",
    "                'City','Country Code','Country' ,'Host Since' ,'First Review','Last Review',\n",
    "                'Business Travel Ready','Host Response Time','Host Response Rate','Postal Code','Is Exact Location',\n",
    "                'Min Nights','Square Feet']\n",
    "train_df.drop(columns=removal_columns,inplace=True)"
   ]
  },
  {
   "cell_type": "markdown",
   "metadata": {},
   "source": [
    "### Missing Data Handlinig"
   ]
  },
  {
   "cell_type": "code",
   "execution_count": 8,
   "metadata": {},
   "outputs": [
    {
     "name": "stdout",
     "output_type": "stream",
     "text": [
      "null column with number of missid values :\n",
      "Is Superhost              23\n",
      "Bathrooms                 14\n",
      "Bedrooms                   5\n",
      "Beds                       8\n",
      "Overall Rating          2962\n",
      "Accuracy Rating         2971\n",
      "Cleanliness Rating      2970\n",
      "Checkin Rating          2973\n",
      "Communication Rating    2970\n",
      "Location Rating         2971\n",
      "Value Rating            2972\n",
      "Price                      9\n",
      "dtype: int64\n"
     ]
    }
   ],
   "source": [
    "null_values = train_df.isnull().sum()\n",
    "null_coumn = train_df.columns[null_values != 0]\n",
    "print('null column with number of missid values :')\n",
    "print(null_values[null_values > 0])"
   ]
  },
  {
   "cell_type": "code",
   "execution_count": 9,
   "metadata": {},
   "outputs": [
    {
     "data": {
      "text/plain": [
       "(15692, 21)"
      ]
     },
     "execution_count": 9,
     "metadata": {},
     "output_type": "execute_result"
    }
   ],
   "source": [
    "train_df.shape"
   ]
  },
  {
   "cell_type": "code",
   "execution_count": 10,
   "metadata": {},
   "outputs": [],
   "source": [
    "#drop empty row  \n",
    "train_df.dropna(subset=['Price'],inplace=True)\n",
    "#i can't fill with mean beacuse therer is many missing in that coulumns\n",
    "train_df.dropna(subset=['Overall Rating','Accuracy Rating', 'Cleanliness Rating', 'Checkin Rating', 'Communication Rating', 'Location Rating', 'Value Rating'],inplace=True,how='all')\n"
   ]
  },
  {
   "cell_type": "code",
   "execution_count": 11,
   "metadata": {},
   "outputs": [
    {
     "name": "stderr",
     "output_type": "stream",
     "text": [
      "C:\\Users\\ahmed\\AppData\\Local\\Temp\\ipykernel_16040\\3700358088.py:9: FutureWarning: Dropping of nuisance columns in DataFrame reductions (with 'numeric_only=None') is deprecated; in a future version this will raise TypeError.  Select only valid columns before calling the reduction.\n",
      "  train_df.fillna(train_df.median(), inplace=True)\n"
     ]
    }
   ],
   "source": [
    "\n",
    "#replace numerical columns missing data with tha median\n",
    "for col in train_df.columns:\n",
    "    train_df[col].replace('*',np.nan,inplace=True)\n",
    "    # train_df[col].replace('Other',np.nan,inplace=True)\n",
    "to_num_col =['Bathrooms','Bedrooms','Guests Included','Beds','Accomodates']\n",
    "for c in to_num_col:\n",
    "  train_df[c]=pd.to_numeric(train_df[c], downcast=\"float\")\n",
    "\n",
    "train_df.fillna(train_df.median(), inplace=True)\n",
    "                         \n"
   ]
  },
  {
   "cell_type": "code",
   "execution_count": 12,
   "metadata": {},
   "outputs": [
    {
     "name": "stdout",
     "output_type": "stream",
     "text": [
      "<class 'pandas.core.frame.DataFrame'>\n",
      "Int64Index: 12728 entries, 0 to 15690\n",
      "Data columns (total 21 columns):\n",
      " #   Column                Non-Null Count  Dtype  \n",
      "---  ------                --------------  -----  \n",
      " 0   Is Superhost          12717 non-null  object \n",
      " 1   Neighborhood Group    12728 non-null  object \n",
      " 2   Latitude              12728 non-null  float64\n",
      " 3   Longitude             12728 non-null  float64\n",
      " 4   Property Type         12672 non-null  object \n",
      " 5   Room Type             12728 non-null  object \n",
      " 6   Accomodates           12728 non-null  float32\n",
      " 7   Bathrooms             12728 non-null  float32\n",
      " 8   Bedrooms              12728 non-null  float32\n",
      " 9   Beds                  12728 non-null  float32\n",
      " 10  Guests Included       12728 non-null  float32\n",
      " 11  Reviews               12728 non-null  int64  \n",
      " 12  Overall Rating        12728 non-null  float64\n",
      " 13  Accuracy Rating       12728 non-null  float64\n",
      " 14  Cleanliness Rating    12728 non-null  float64\n",
      " 15  Checkin Rating        12728 non-null  float64\n",
      " 16  Communication Rating  12728 non-null  float64\n",
      " 17  Location Rating       12728 non-null  float64\n",
      " 18  Value Rating          12728 non-null  float64\n",
      " 19  Instant Bookable      12728 non-null  object \n",
      " 20  Price                 12728 non-null  float64\n",
      "dtypes: float32(5), float64(10), int64(1), object(5)\n",
      "memory usage: 1.9+ MB\n"
     ]
    }
   ],
   "source": [
    "train_df.info()"
   ]
  },
  {
   "cell_type": "markdown",
   "metadata": {},
   "source": [
    "### categorical data encoding"
   ]
  },
  {
   "cell_type": "code",
   "execution_count": 13,
   "metadata": {},
   "outputs": [],
   "source": [
    "#due to unplanced between Shared room and Private room in room type \n",
    "#and thay are colse in price i will join them as private room\n",
    "train_df['Room Type'] = train_df['Room Type'].replace('Shared room','Private room')  "
   ]
  },
  {
   "cell_type": "code",
   "execution_count": 14,
   "metadata": {},
   "outputs": [],
   "source": [
    "#nominal data is  :Neighborhood Group,Property Type , Room Type ,Instant Bookable ,Is Superhost\n",
    "\n",
    "train_df.fillna(0,inplace=True)\n",
    "\n",
    "shost_enc = LabelEncoder()\n",
    "shost_trans = shost_enc.fit_transform(train_df['Is Superhost'].astype(str))\n",
    "train_df['Is Superhost'] = shost_trans\n",
    "\n",
    "neighborhood_enc = LabelEncoder()\n",
    "neighborhood_trans = neighborhood_enc.fit_transform(train_df['Neighborhood Group'].astype(str))\n",
    "train_df['Neighborhood Group'] = neighborhood_trans\n",
    "\n",
    "property_enc = LabelEncoder()\n",
    "property_trans = property_enc.fit_transform(train_df['Property Type'].astype(str))\n",
    "train_df['Property Type'] = property_trans\n",
    "\n",
    "room_enc = LabelEncoder()\n",
    "room_trans = room_enc.fit_transform(train_df['Room Type'].astype(str))\n",
    "train_df['Room Type'] = room_trans\n",
    "\n",
    "bookable_enc = LabelEncoder()\n",
    "bookable_trans = bookable_enc.fit_transform(train_df['Instant Bookable'].astype(str))\n",
    "train_df['Instant Bookable'] = bookable_trans\n",
    "\n",
    "#store encoders in dataframe\n",
    "try:\n",
    "    if not os.path.exists('encoders'):\n",
    "        os.mkdir('encoders')\n",
    "    pkl.dump(shost_enc,open('encoders/Superhost.pkl','wb'))\n",
    "    pkl.dump(neighborhood_enc,open('encoders/Neighborhood.pkl','wb'))\n",
    "    pkl.dump(property_enc,open('encoders/Property.pkl','wb'))\n",
    "    pkl.dump(room_enc,open('encoders/Room.pkl','wb'))\n",
    "    pkl.dump(bookable_enc,open('encoders/Bookable.pkl','wb'))\n",
    "except NameError:\n",
    "    print('NameError')\n",
    "    "
   ]
  },
  {
   "cell_type": "code",
   "execution_count": 15,
   "metadata": {},
   "outputs": [
    {
     "name": "stdout",
     "output_type": "stream",
     "text": [
      "<class 'pandas.core.frame.DataFrame'>\n",
      "Int64Index: 12728 entries, 0 to 15690\n",
      "Data columns (total 21 columns):\n",
      " #   Column                Non-Null Count  Dtype  \n",
      "---  ------                --------------  -----  \n",
      " 0   Is Superhost          12728 non-null  int32  \n",
      " 1   Neighborhood Group    12728 non-null  int32  \n",
      " 2   Latitude              12728 non-null  float64\n",
      " 3   Longitude             12728 non-null  float64\n",
      " 4   Property Type         12728 non-null  int32  \n",
      " 5   Room Type             12728 non-null  int32  \n",
      " 6   Accomodates           12728 non-null  float32\n",
      " 7   Bathrooms             12728 non-null  float32\n",
      " 8   Bedrooms              12728 non-null  float32\n",
      " 9   Beds                  12728 non-null  float32\n",
      " 10  Guests Included       12728 non-null  float32\n",
      " 11  Reviews               12728 non-null  int64  \n",
      " 12  Overall Rating        12728 non-null  float64\n",
      " 13  Accuracy Rating       12728 non-null  float64\n",
      " 14  Cleanliness Rating    12728 non-null  float64\n",
      " 15  Checkin Rating        12728 non-null  float64\n",
      " 16  Communication Rating  12728 non-null  float64\n",
      " 17  Location Rating       12728 non-null  float64\n",
      " 18  Value Rating          12728 non-null  float64\n",
      " 19  Instant Bookable      12728 non-null  int32  \n",
      " 20  Price                 12728 non-null  float64\n",
      "dtypes: float32(5), float64(10), int32(5), int64(1)\n",
      "memory usage: 1.7 MB\n"
     ]
    }
   ],
   "source": [
    "train_df.info()"
   ]
  },
  {
   "cell_type": "markdown",
   "metadata": {},
   "source": [
    "### Data Normalization and modeling"
   ]
  },
  {
   "cell_type": "markdown",
   "metadata": {},
   "source": [
    "used root mean square error as evalaution metric"
   ]
  },
  {
   "cell_type": "code",
   "execution_count": 16,
   "metadata": {},
   "outputs": [],
   "source": [
    "models = []\n",
    "#list of dictionary\n",
    "#{name:modelname,train_predictin,test_prediction}"
   ]
  },
  {
   "cell_type": "code",
   "execution_count": 17,
   "metadata": {},
   "outputs": [],
   "source": [
    "X=train_df.drop(columns='Price')\n",
    "y=train_df['Price']"
   ]
  },
  {
   "cell_type": "code",
   "execution_count": 18,
   "metadata": {},
   "outputs": [],
   "source": [
    "x_train,x_test,y_train,y_test = train_test_split(X,y,test_size=0.2, random_state = 42)\n"
   ]
  },
  {
   "cell_type": "code",
   "execution_count": 19,
   "metadata": {},
   "outputs": [],
   "source": [
    "normalizer= Normalizer().fit(x_train)\n",
    "x_train_normalize = normalizer.transform(x_train)\n",
    "x_test_normalize = normalizer.transform(x_test)\n"
   ]
  },
  {
   "cell_type": "code",
   "execution_count": 16,
   "metadata": {},
   "outputs": [
    {
     "data": {
      "text/plain": [
       "<BarContainer object of 20 artists>"
      ]
     },
     "execution_count": 16,
     "metadata": {},
     "output_type": "execute_result"
    },
    {
     "data": {
      "image/png": "[encoded data removed]",
      "text/plain": [
       "<Figure size 432x288 with 1 Axes>"
      ]
     },
     "metadata": {
      "needs_background": "light"
     },
     "output_type": "display_data"
    }
   ],
   "source": [
    "pca = PCA()\n",
    "x_train_pca = pca.fit_transform(x_train)\n",
    "cvar_arr = pca.explained_variance_ratio_\n",
    "plt.bar(np.arange(0, cvar_arr.shape[0]),cvar_arr)\n",
    "#pca1 or 2 are enguph"
   ]
  },
  {
   "cell_type": "code",
   "execution_count": 17,
   "metadata": {},
   "outputs": [
    {
     "data": {
      "text/plain": [
       "array([0.95983799, 0.02755515, 0.00466452, 0.00408128, 0.00172212])"
      ]
     },
     "execution_count": 17,
     "metadata": {},
     "output_type": "execute_result"
    }
   ],
   "source": [
    "cvar_arr[:5]"
   ]
  },
  {
   "cell_type": "code",
   "execution_count": 3,
   "metadata": {},
   "outputs": [],
   "source": [
    "def add_print_model(name,train_pred,test_pred):\n",
    "    models.append({'name':name,'train predictin score':train_pred,'test prediction score':test_pred})\n",
    "    print(models[-1])\n"
   ]
  },
  {
   "cell_type": "markdown",
   "metadata": {},
   "source": [
    "### Linear Regression"
   ]
  },
  {
   "cell_type": "code",
   "execution_count": 19,
   "metadata": {},
   "outputs": [
    {
     "name": "stderr",
     "output_type": "stream",
     "text": [
      "C:\\Users\\ahmed\\AppData\\Roaming\\Python\\Python310\\site-packages\\sklearn\\base.py:450: UserWarning: X does not have valid feature names, but PCA was fitted with feature names\n",
      "  warnings.warn(\n",
      "C:\\Users\\ahmed\\AppData\\Roaming\\Python\\Python310\\site-packages\\sklearn\\base.py:450: UserWarning: X does not have valid feature names, but PCA was fitted with feature names\n",
      "  warnings.warn(\n"
     ]
    }
   ],
   "source": [
    "pca_regr = PCA(n_components=5)\n",
    "pca_regr.fit(x_train)\n",
    "x_train_pca = pca_regr.transform(x_train_normalize)\n",
    "x_test_pca = pca_regr.transform(x_test_normalize)"
   ]
  },
  {
   "cell_type": "code",
   "execution_count": 20,
   "metadata": {},
   "outputs": [
    {
     "name": "stdout",
     "output_type": "stream",
     "text": [
      "{'name': 'LinearRegression', 'train predictin score': 36.53691227617429, 'test prediction score': 33.04852878254421}\n"
     ]
    }
   ],
   "source": [
    "lr_model = LinearRegression()\n",
    "lr_model.fit(x_train,y_train)\n",
    "lr_train_score = np.sqrt(mean_squared_error(y_train,lr_model.predict(x_train)))\n",
    "lr_test_score = np.sqrt(mean_squared_error(y_test,lr_model.predict(x_test)))\n",
    "add_print_model('LinearRegression',lr_train_score,lr_test_score)"
   ]
  },
  {
   "cell_type": "markdown",
   "metadata": {},
   "source": [
    "### DecisionTreeRegressor"
   ]
  },
  {
   "cell_type": "code",
   "execution_count": 21,
   "metadata": {},
   "outputs": [
    {
     "name": "stdout",
     "output_type": "stream",
     "text": [
      "{'name': 'DecisionTreeRegressor', 'train predictin score': 35.307343463697286, 'test prediction score': 34.88881477895943}\n"
     ]
    }
   ],
   "source": [
    "dtr_model =DecisionTreeRegressor(max_depth=5,min_samples_split=3)\n",
    "dtr_model = dtr_model.fit(x_train, y_train)\n",
    "dtr_train_score = np.sqrt(mean_squared_error(y_train,dtr_model.predict(x_train)))\n",
    "dtr_test_score = np.sqrt(mean_squared_error(y_test,dtr_model.predict(x_test)))\n",
    "add_print_model('DecisionTreeRegressor',dtr_train_score,dtr_test_score)"
   ]
  },
  {
   "cell_type": "markdown",
   "metadata": {},
   "source": [
    "### Bagging Regressor"
   ]
  },
  {
   "cell_type": "code",
   "execution_count": 22,
   "metadata": {},
   "outputs": [
    {
     "name": "stdout",
     "output_type": "stream",
     "text": [
      "{'name': 'BaggingRegressor_DecisionTree', 'train predictin score': 34.316817297337316, 'test prediction score': 33.54175425459841}\n"
     ]
    }
   ],
   "source": [
    "bgging_model =BaggingRegressor(n_estimators = 100,n_jobs=-1,base_estimator=DecisionTreeRegressor(max_depth=5,min_samples_split=3))\n",
    "bgging_model = bgging_model.fit(x_train, y_train)\n",
    "bgging_train_score = np.sqrt(mean_squared_error(y_train,bgging_model.predict(x_train)))\n",
    "bgging_test_score = np.sqrt(mean_squared_error(y_test,bgging_model.predict(x_test)))\n",
    "add_print_model('BaggingRegressor_DecisionTree',bgging_train_score,bgging_test_score)"
   ]
  },
  {
   "cell_type": "code",
   "execution_count": 23,
   "metadata": {},
   "outputs": [],
   "source": [
    "bgging_model =BaggingRegressor(n_estimators = 10,n_jobs=-1,base_estimator=SVR())\n",
    "bgging_model = bgging_model.fit(x_train, y_train)\n",
    "bgging_train_score = np.sqrt(mean_squared_error(y_train,bgging_model.predict(x_train)))\n",
    "bgging_test_score = np.sqrt(mean_squared_error(y_test,bgging_model.predict(x_test)))\n",
    "add_print_model('BaggingRegressor_svr',bgging_train_score,bgging_test_score)"
   ]
  },
  {
   "cell_type": "markdown",
   "metadata": {},
   "source": [
    "### RandomForestRegressor"
   ]
  },
  {
   "cell_type": "code",
   "execution_count": 24,
   "metadata": {},
   "outputs": [
    {
     "name": "stdout",
     "output_type": "stream",
     "text": [
      "{'name': 'RandomForestRegressor', 'train predictin score': 30.962103869033683, 'test prediction score': 32.839200869970455}\n"
     ]
    }
   ],
   "source": [
    "rfr_model =RandomForestRegressor(n_estimators=50,min_samples_split=2,n_jobs=-1,max_depth=7)\n",
    "rfr_model = rfr_model.fit(x_train, y_train)\n",
    "rfr_train_score = np.sqrt(mean_squared_error(y_train,rfr_model.predict(x_train)))\n",
    "rfr_test_score = np.sqrt(mean_squared_error(y_test,rfr_model.predict(x_test)))\n",
    "add_print_model('RandomForestRegressor',rfr_train_score,rfr_test_score)\n",
    "#"
   ]
  },
  {
   "cell_type": "markdown",
   "metadata": {},
   "source": [
    "### Boosting"
   ]
  },
  {
   "cell_type": "markdown",
   "metadata": {},
   "source": [
    "#### Gradient Boosted Trees\n",
    "XGBoost is a scalable and highly accurate implementation of gradient boosting"
   ]
  },
  {
   "cell_type": "code",
   "execution_count": 20,
   "metadata": {},
   "outputs": [
    {
     "name": "stdout",
     "output_type": "stream",
     "text": [
      "{'name': 'xgboost', 'train predictin score': 31.664505864785454, 'test prediction score': 32.26583811923277}\n"
     ]
    }
   ],
   "source": [
    "xgboost = XGBRegressor(learning_rate=0.001,\n",
    "                       n_estimators=6000,\n",
    "                       max_depth=4,\n",
    "                       min_child_weight=0,\n",
    "                       gamma=0.6,\n",
    "                       subsample=0.7,\n",
    "                       colsample_bytree=0.7,\n",
    "                       objective='reg:squarederror',\n",
    "                       nthread=-1,\n",
    "                       scale_pos_weight=1,\n",
    "                       seed=27,\n",
    "                       reg_alpha=0.00006,\n",
    "                       random_state=42)\n",
    "xgb_model = xgboost.fit(x_train, y_train)\n",
    "xgb_train_score = np.sqrt(mean_squared_error(y_train,xgb_model.predict(x_train)))\n",
    "xgb_test_score = np.sqrt(mean_squared_error(y_test,xgb_model.predict(x_test)))\n",
    "add_print_model('xgboost',xgb_train_score,xgb_test_score)"
   ]
  },
  {
   "cell_type": "markdown",
   "metadata": {},
   "source": [
    "### Adaboost "
   ]
  },
  {
   "cell_type": "code",
   "execution_count": 26,
   "metadata": {},
   "outputs": [
    {
     "name": "stdout",
     "output_type": "stream",
     "text": [
      "{'name': 'AdaBoostRegressor_DecisionTree', 'train predictin score': 34.14078729368063, 'test prediction score': 33.21472805187337}\n"
     ]
    }
   ],
   "source": [
    "adaboost_model =AdaBoostRegressor(n_estimators = 50,learning_rate=0.1,base_estimator=DecisionTreeRegressor(max_depth=5,min_samples_split=3))\n",
    "adaboost_model = adaboost_model.fit(x_train, y_train)\n",
    "adaboost_train_score = np.sqrt(mean_squared_error(y_train,adaboost_model.predict(x_train)))\n",
    "adaboost_test_score = np.sqrt(mean_squared_error(y_test,adaboost_model.predict(x_test)))\n",
    "add_print_model('AdaBoostRegressor_DecisionTree',adaboost_train_score,adaboost_test_score)"
   ]
  },
  {
   "cell_type": "code",
   "execution_count": 27,
   "metadata": {},
   "outputs": [
    {
     "name": "stdout",
     "output_type": "stream",
     "text": [
      "{'name': 'AdaBoostRegressor_svr', 'train predictin score': 48.233659979352446, 'test prediction score': 42.47254634075796}\n"
     ]
    }
   ],
   "source": [
    "adaboost_model =AdaBoostRegressor(n_estimators = 10,learning_rate=0.1,base_estimator=SVR())\n",
    "adaboost_model = adaboost_model.fit(x_train, y_train)\n",
    "adaboost_train_score = np.sqrt(mean_squared_error(y_train,adaboost_model.predict(x_train)))\n",
    "adaboost_test_score = np.sqrt(mean_squared_error(y_test,adaboost_model.predict(x_test)))\n",
    "add_print_model('AdaBoostRegressor_svr',adaboost_train_score,adaboost_test_score)\n",
    "#it was slowest one and lowest acc"
   ]
  },
  {
   "cell_type": "code",
   "execution_count": 34,
   "metadata": {},
   "outputs": [
    {
     "data": {
      "text/html": [
       "<div>\n",
       "<style scoped>\n",
       "    .dataframe tbody tr th:only-of-type {\n",
       "        vertical-align: middle;\n",
       "    }\n",
       "\n",
       "    .dataframe tbody tr th {\n",
       "        vertical-align: top;\n",
       "    }\n",
       "\n",
       "    .dataframe thead th {\n",
       "        text-align: right;\n",
       "    }\n",
       "</style>\n",
       "<table border=\"1\" class=\"dataframe\">\n",
       "  <thead>\n",
       "    <tr style=\"text-align: right;\">\n",
       "      <th></th>\n",
       "      <th>name</th>\n",
       "      <th>train predictin score</th>\n",
       "      <th>test prediction score</th>\n",
       "    </tr>\n",
       "  </thead>\n",
       "  <tbody>\n",
       "    <tr>\n",
       "      <th>0</th>\n",
       "      <td>LinearRegression</td>\n",
       "      <td>36.536912</td>\n",
       "      <td>33.048529</td>\n",
       "    </tr>\n",
       "    <tr>\n",
       "      <th>1</th>\n",
       "      <td>DecisionTreeRegressor</td>\n",
       "      <td>35.307343</td>\n",
       "      <td>34.888815</td>\n",
       "    </tr>\n",
       "    <tr>\n",
       "      <th>2</th>\n",
       "      <td>BaggingRegressor_DecisionTree</td>\n",
       "      <td>34.316817</td>\n",
       "      <td>33.541754</td>\n",
       "    </tr>\n",
       "    <tr>\n",
       "      <th>3</th>\n",
       "      <td>BaggingRegressor_svr</td>\n",
       "      <td>48.584084</td>\n",
       "      <td>42.811857</td>\n",
       "    </tr>\n",
       "    <tr>\n",
       "      <th>4</th>\n",
       "      <td>RandomForestRegressor</td>\n",
       "      <td>30.962104</td>\n",
       "      <td>32.839201</td>\n",
       "    </tr>\n",
       "    <tr>\n",
       "      <th>5</th>\n",
       "      <td>xgboost</td>\n",
       "      <td>31.664506</td>\n",
       "      <td>32.265838</td>\n",
       "    </tr>\n",
       "    <tr>\n",
       "      <th>6</th>\n",
       "      <td>AdaBoostRegressor_DecisionTree</td>\n",
       "      <td>34.140787</td>\n",
       "      <td>33.214728</td>\n",
       "    </tr>\n",
       "    <tr>\n",
       "      <th>7</th>\n",
       "      <td>AdaBoostRegressor_svr</td>\n",
       "      <td>48.233660</td>\n",
       "      <td>42.472546</td>\n",
       "    </tr>\n",
       "  </tbody>\n",
       "</table>\n",
       "</div>"
      ],
      "text/plain": [
       "                             name  train predictin score  \\\n",
       "0                LinearRegression              36.536912   \n",
       "1           DecisionTreeRegressor              35.307343   \n",
       "2   BaggingRegressor_DecisionTree              34.316817   \n",
       "3            BaggingRegressor_svr              48.584084   \n",
       "4           RandomForestRegressor              30.962104   \n",
       "5                         xgboost              31.664506   \n",
       "6  AdaBoostRegressor_DecisionTree              34.140787   \n",
       "7           AdaBoostRegressor_svr              48.233660   \n",
       "\n",
       "   test prediction score  \n",
       "0              33.048529  \n",
       "1              34.888815  \n",
       "2              33.541754  \n",
       "3              42.811857  \n",
       "4              32.839201  \n",
       "5              32.265838  \n",
       "6              33.214728  \n",
       "7              42.472546  "
      ]
     },
     "execution_count": 34,
     "metadata": {},
     "output_type": "execute_result"
    }
   ],
   "source": [
    "models_df = pd.DataFrame(models)\n",
    "models_df.to_csv('models_result.csv')\n",
    "models_df"
   ]
  },
  {
   "cell_type": "code",
   "execution_count": 35,
   "metadata": {},
   "outputs": [
    {
     "data": {
      "image/png": "[encoded data removed]",
      "text/plain": [
       "<Figure size 720x720 with 1 Axes>"
      ]
     },
     "metadata": {
      "needs_background": "light"
     },
     "output_type": "display_data"
    }
   ],
   "source": [
    "\n",
    "models_df.set_index('name').sort_values(by=['test prediction score']).plot(kind='bar',figsize=(10,10))\n",
    "plt.ylabel('RMSE')\n",
    "plt.xlabel('model')\n",
    "plt.title('RMSE for each model\\nlower is better')\n",
    "plt.show()"
   ]
  },
  {
   "cell_type": "code",
   "execution_count": 30,
   "metadata": {},
   "outputs": [],
   "source": [
    "#best model is xgboost with train acc = 31.66 and val acc = 32.26"
   ]
  },
  {
   "cell_type": "markdown",
   "metadata": {},
   "source": [
    "# testing The model \n",
    "test model with test_airbnb_berlin csv file"
   ]
  },
  {
   "cell_type": "markdown",
   "metadata": {},
   "source": [
    "## Dataframe Preprocessing Pipline"
   ]
  },
  {
   "cell_type": "code",
   "execution_count": 21,
   "metadata": {},
   "outputs": [],
   "source": [
    "def dataframePip(df):\n",
    "\n",
    "    '''\n",
    "    df :pandsa data frame with columns structure same as : \n",
    "    ['Listing ID', 'Listing Name', 'Host ID', 'Host Name', 'Host Since',\n",
    "       'Host Response Time', 'Host Response Rate', 'Is Superhost',\n",
    "       'neighbourhood', 'Neighborhood Group', 'City', 'Postal Code',\n",
    "       'Country Code', 'Country', 'Latitude', 'Longitude', 'Is Exact Location',\n",
    "       'Property Type', 'Room Type', 'Accomodates', 'Bathrooms', 'Bedrooms',\n",
    "       'Beds', 'Square Feet', 'Guests Included', 'Min Nights', 'Reviews',\n",
    "       'First Review', 'Last Review', 'Overall Rating', 'Accuracy Rating',\n",
    "       'Cleanliness Rating', 'Checkin Rating', 'Communication Rating',\n",
    "       'Location Rating', 'Value Rating', 'Instant Bookable',\n",
    "       'Business Travel Ready']\n",
    "    \n",
    "    output : return clean dataframe for model prediction \n",
    "    '''\n",
    "    df = df.copy()\n",
    "    df.set_index('Listing ID',inplace=True,drop=True)\n",
    "    #drop unneeded columns in prediction\n",
    "    removal_columns =['Listing Name','Host ID','Host Name','neighbourhood',\n",
    "                    'City','Country Code','Country' ,'Host Since' ,'First Review','Last Review',\n",
    "                    'Business Travel Ready','Host Response Time','Host Response Rate','Postal Code','Is Exact Location',\n",
    "                    'Min Nights','Square Feet']\n",
    "    df.drop(columns=removal_columns,inplace=True)\n",
    "\n",
    "    #drop empty row  \n",
    "    #i can't fill with mean beacuse therer is many missing in that coulumns\n",
    "    df.dropna(subset=['Overall Rating','Accuracy Rating', 'Cleanliness Rating', 'Checkin Rating', 'Communication Rating', 'Location Rating', 'Value Rating'],inplace=True,how='all')\n",
    "\n",
    "\n",
    "    #replace numerical columns missing data with tha median\n",
    "    for col in df.columns:\n",
    "        df[col].replace('*',np.nan,inplace=True)\n",
    "        # df[col].replace('Other',np.nan,inplace=True)\n",
    "    to_num_col =['Bathrooms','Bedrooms','Guests Included','Beds','Accomodates']\n",
    "    for c in to_num_col:\n",
    "        df[c]=pd.to_numeric(df[c], downcast=\"float\")\n",
    "\n",
    "    df.fillna(df.median(), inplace=True)\n",
    "                            \n",
    "    df['Room Type'] = df['Room Type'].replace('Shared room','Private room')  \n",
    "\n",
    "    #nominal data is  :Neighborhood Group,Property Type , Room Type ,Instant Bookable ,Is Superhost\n",
    "\n",
    "    df.fillna(0,inplace=True)\n",
    "\n",
    "    #loading label classes which stored in pickel\n",
    "    #load encoders in dataframe\n",
    "    try:\n",
    "        shost_enc = pkl.load(open('encoders/Superhost.pkl','rb'))\n",
    "        neighborhood_enc =pkl.load(open('encoders/Neighborhood.pkl','rb'))\n",
    "        property_enc =pkl.load(open('encoders/Property.pkl','rb'))\n",
    "        room_enc =pkl.load(open('encoders/Room.pkl','rb'))\n",
    "        bookable_enc =pkl.load(open('encoders/Bookable.pkl','rb'))\n",
    "\n",
    "\n",
    "        df['Is Superhost'] = shost_enc.transform(df['Is Superhost'].astype(str))\n",
    "\n",
    "        df['Neighborhood Group'] = neighborhood_enc.transform(df['Neighborhood Group'].astype(str))\n",
    "\n",
    "        df['Property Type'] = property_enc.transform(df['Property Type'].astype(str))\n",
    "\n",
    "        df['Room Type'] = room_enc.transform(df['Room Type'].astype(str))\n",
    "\n",
    "        df['Instant Bookable'] = bookable_enc.transform(df['Instant Bookable'].astype(str))\n",
    "        return df\n",
    "    except NameError :\n",
    "        \n",
    "        return None\n",
    "    \n",
    "\n"
   ]
  },
  {
   "cell_type": "markdown",
   "metadata": {},
   "source": [
    "## data Preprocessing Pipline\n",
    "not in format of data frame"
   ]
  },
  {
   "cell_type": "code",
   "execution_count": 22,
   "metadata": {},
   "outputs": [],
   "source": [
    "def dataPipe(dataarray):\n",
    "    '''\n",
    "    dataarray : columns in shape of structure as follow:\n",
    "    ['Is Superhost', 'Neighborhood Group', 'Latitude', 'Longitude',\n",
    "       'Property Type', 'Room Type', 'Accomodates', 'Bathrooms', 'Bedrooms',\n",
    "       'Beds', 'Guests Included', 'Reviews', 'Overall Rating',\n",
    "       'Accuracy Rating', 'Cleanliness Rating', 'Checkin Rating',\n",
    "       'Communication Rating', 'Location Rating', 'Value Rating',\n",
    "       'Instant Bookable']\n",
    "\n",
    "    output clean data ready for model prediction \n",
    "    '''\n",
    "    try:\n",
    "        shost_enc = pkl.load(open('encoders/Superhost.pkl','rb'))\n",
    "        neighborhood_enc =pkl.load(open('encoders/Neighborhood.pkl','rb'))\n",
    "        property_enc =pkl.load(open('encoders/Property.pkl','rb'))\n",
    "        room_enc =pkl.load(open('encoders/Room.pkl','rb'))\n",
    "        bookable_enc =pkl.load(open('encoders/Bookable.pkl','rb'))\n",
    "\n",
    "        # ['Is Superhost' 0, 'Neighborhood Group' 1, 'Property Type' 4, 'Room Type' 5,'Instant Bookable' 19]\n",
    "\n",
    "        dataarray[:,0] = shost_enc.transform(dataarray[:,0].astype(str))\n",
    "\n",
    "        dataarray[:,1] = neighborhood_enc.transform(dataarray[:,1].astype(str))\n",
    "\n",
    "        dataarray[:,4] = property_enc.transform(dataarray[:,4].astype(str))\n",
    "\n",
    "        dataarray[:,5] = room_enc.transform(dataarray[:,5].astype(str))\n",
    "\n",
    "        dataarray[:,19] = bookable_enc.transform(dataarray[:,19].astype(str))\n",
    "        return dataarray.astype('float')\n",
    "    except NameError :\n",
    "        \n",
    "        return None"
   ]
  },
  {
   "cell_type": "markdown",
   "metadata": {},
   "source": [
    "### test data frame prediction"
   ]
  },
  {
   "cell_type": "code",
   "execution_count": 23,
   "metadata": {},
   "outputs": [
    {
     "name": "stderr",
     "output_type": "stream",
     "text": [
      "C:\\Users\\ahmed\\AppData\\Local\\Temp\\ipykernel_16040\\1276562563.py:40: FutureWarning: Dropping of nuisance columns in DataFrame reductions (with 'numeric_only=None') is deprecated; in a future version this will raise TypeError.  Select only valid columns before calling the reduction.\n",
      "  df.fillna(df.median(), inplace=True)\n"
     ]
    }
   ],
   "source": [
    "test_df = pd.read_csv('test_airbnb_berlin.csv')\n",
    "test_df = dataframePip(test_df)"
   ]
  },
  {
   "cell_type": "code",
   "execution_count": 24,
   "metadata": {},
   "outputs": [
    {
     "data": {
      "text/html": [
       "<div>\n",
       "<style scoped>\n",
       "    .dataframe tbody tr th:only-of-type {\n",
       "        vertical-align: middle;\n",
       "    }\n",
       "\n",
       "    .dataframe tbody tr th {\n",
       "        vertical-align: top;\n",
       "    }\n",
       "\n",
       "    .dataframe thead th {\n",
       "        text-align: right;\n",
       "    }\n",
       "</style>\n",
       "<table border=\"1\" class=\"dataframe\">\n",
       "  <thead>\n",
       "    <tr style=\"text-align: right;\">\n",
       "      <th></th>\n",
       "      <th>Is Superhost</th>\n",
       "      <th>Neighborhood Group</th>\n",
       "      <th>Latitude</th>\n",
       "      <th>Longitude</th>\n",
       "      <th>Property Type</th>\n",
       "      <th>Room Type</th>\n",
       "      <th>Accomodates</th>\n",
       "      <th>Bathrooms</th>\n",
       "      <th>Bedrooms</th>\n",
       "      <th>Beds</th>\n",
       "      <th>Guests Included</th>\n",
       "      <th>Reviews</th>\n",
       "      <th>Overall Rating</th>\n",
       "      <th>Accuracy Rating</th>\n",
       "      <th>Cleanliness Rating</th>\n",
       "      <th>Checkin Rating</th>\n",
       "      <th>Communication Rating</th>\n",
       "      <th>Location Rating</th>\n",
       "      <th>Value Rating</th>\n",
       "      <th>Instant Bookable</th>\n",
       "    </tr>\n",
       "    <tr>\n",
       "      <th>Listing ID</th>\n",
       "      <th></th>\n",
       "      <th></th>\n",
       "      <th></th>\n",
       "      <th></th>\n",
       "      <th></th>\n",
       "      <th></th>\n",
       "      <th></th>\n",
       "      <th></th>\n",
       "      <th></th>\n",
       "      <th></th>\n",
       "      <th></th>\n",
       "      <th></th>\n",
       "      <th></th>\n",
       "      <th></th>\n",
       "      <th></th>\n",
       "      <th></th>\n",
       "      <th></th>\n",
       "      <th></th>\n",
       "      <th></th>\n",
       "      <th></th>\n",
       "    </tr>\n",
       "  </thead>\n",
       "  <tbody>\n",
       "    <tr>\n",
       "      <th>13338017.0</th>\n",
       "      <td>2</td>\n",
       "      <td>1</td>\n",
       "      <td>52.50053</td>\n",
       "      <td>13.44184</td>\n",
       "      <td>1</td>\n",
       "      <td>0</td>\n",
       "      <td>2.0</td>\n",
       "      <td>1.0</td>\n",
       "      <td>1.0</td>\n",
       "      <td>1.0</td>\n",
       "      <td>2.0</td>\n",
       "      <td>131</td>\n",
       "      <td>97.0</td>\n",
       "      <td>10.0</td>\n",
       "      <td>10.0</td>\n",
       "      <td>10.0</td>\n",
       "      <td>10.0</td>\n",
       "      <td>10.0</td>\n",
       "      <td>10.0</td>\n",
       "      <td>0</td>\n",
       "    </tr>\n",
       "    <tr>\n",
       "      <th>2899239.0</th>\n",
       "      <td>1</td>\n",
       "      <td>1</td>\n",
       "      <td>52.51647</td>\n",
       "      <td>13.45862</td>\n",
       "      <td>1</td>\n",
       "      <td>0</td>\n",
       "      <td>4.0</td>\n",
       "      <td>1.5</td>\n",
       "      <td>2.0</td>\n",
       "      <td>4.0</td>\n",
       "      <td>2.0</td>\n",
       "      <td>22</td>\n",
       "      <td>75.0</td>\n",
       "      <td>8.0</td>\n",
       "      <td>5.0</td>\n",
       "      <td>8.0</td>\n",
       "      <td>8.0</td>\n",
       "      <td>9.0</td>\n",
       "      <td>7.0</td>\n",
       "      <td>0</td>\n",
       "    </tr>\n",
       "    <tr>\n",
       "      <th>441586.0</th>\n",
       "      <td>1</td>\n",
       "      <td>1</td>\n",
       "      <td>52.52481</td>\n",
       "      <td>13.44676</td>\n",
       "      <td>1</td>\n",
       "      <td>1</td>\n",
       "      <td>2.0</td>\n",
       "      <td>1.0</td>\n",
       "      <td>1.0</td>\n",
       "      <td>2.0</td>\n",
       "      <td>1.0</td>\n",
       "      <td>20</td>\n",
       "      <td>94.0</td>\n",
       "      <td>10.0</td>\n",
       "      <td>9.0</td>\n",
       "      <td>10.0</td>\n",
       "      <td>9.0</td>\n",
       "      <td>9.0</td>\n",
       "      <td>9.0</td>\n",
       "      <td>1</td>\n",
       "    </tr>\n",
       "    <tr>\n",
       "      <th>19036720.0</th>\n",
       "      <td>1</td>\n",
       "      <td>10</td>\n",
       "      <td>52.46009</td>\n",
       "      <td>13.42204</td>\n",
       "      <td>1</td>\n",
       "      <td>1</td>\n",
       "      <td>3.0</td>\n",
       "      <td>1.0</td>\n",
       "      <td>3.0</td>\n",
       "      <td>4.0</td>\n",
       "      <td>1.0</td>\n",
       "      <td>19</td>\n",
       "      <td>96.0</td>\n",
       "      <td>10.0</td>\n",
       "      <td>10.0</td>\n",
       "      <td>10.0</td>\n",
       "      <td>10.0</td>\n",
       "      <td>9.0</td>\n",
       "      <td>9.0</td>\n",
       "      <td>1</td>\n",
       "    </tr>\n",
       "    <tr>\n",
       "      <th>8656349.0</th>\n",
       "      <td>1</td>\n",
       "      <td>0</td>\n",
       "      <td>52.49952</td>\n",
       "      <td>13.32903</td>\n",
       "      <td>1</td>\n",
       "      <td>0</td>\n",
       "      <td>3.0</td>\n",
       "      <td>2.0</td>\n",
       "      <td>2.0</td>\n",
       "      <td>2.0</td>\n",
       "      <td>2.0</td>\n",
       "      <td>19</td>\n",
       "      <td>91.0</td>\n",
       "      <td>10.0</td>\n",
       "      <td>9.0</td>\n",
       "      <td>10.0</td>\n",
       "      <td>10.0</td>\n",
       "      <td>9.0</td>\n",
       "      <td>10.0</td>\n",
       "      <td>0</td>\n",
       "    </tr>\n",
       "    <tr>\n",
       "      <th>...</th>\n",
       "      <td>...</td>\n",
       "      <td>...</td>\n",
       "      <td>...</td>\n",
       "      <td>...</td>\n",
       "      <td>...</td>\n",
       "      <td>...</td>\n",
       "      <td>...</td>\n",
       "      <td>...</td>\n",
       "      <td>...</td>\n",
       "      <td>...</td>\n",
       "      <td>...</td>\n",
       "      <td>...</td>\n",
       "      <td>...</td>\n",
       "      <td>...</td>\n",
       "      <td>...</td>\n",
       "      <td>...</td>\n",
       "      <td>...</td>\n",
       "      <td>...</td>\n",
       "      <td>...</td>\n",
       "      <td>...</td>\n",
       "    </tr>\n",
       "    <tr>\n",
       "      <th>23369807.0</th>\n",
       "      <td>2</td>\n",
       "      <td>0</td>\n",
       "      <td>52.50378</td>\n",
       "      <td>13.31480</td>\n",
       "      <td>1</td>\n",
       "      <td>1</td>\n",
       "      <td>2.0</td>\n",
       "      <td>1.5</td>\n",
       "      <td>1.0</td>\n",
       "      <td>2.0</td>\n",
       "      <td>1.0</td>\n",
       "      <td>84</td>\n",
       "      <td>96.0</td>\n",
       "      <td>10.0</td>\n",
       "      <td>10.0</td>\n",
       "      <td>10.0</td>\n",
       "      <td>10.0</td>\n",
       "      <td>10.0</td>\n",
       "      <td>9.0</td>\n",
       "      <td>1</td>\n",
       "    </tr>\n",
       "    <tr>\n",
       "      <th>2861405.0</th>\n",
       "      <td>1</td>\n",
       "      <td>10</td>\n",
       "      <td>52.48460</td>\n",
       "      <td>13.35230</td>\n",
       "      <td>1</td>\n",
       "      <td>0</td>\n",
       "      <td>3.0</td>\n",
       "      <td>1.0</td>\n",
       "      <td>1.0</td>\n",
       "      <td>2.0</td>\n",
       "      <td>1.0</td>\n",
       "      <td>1</td>\n",
       "      <td>100.0</td>\n",
       "      <td>10.0</td>\n",
       "      <td>10.0</td>\n",
       "      <td>10.0</td>\n",
       "      <td>10.0</td>\n",
       "      <td>10.0</td>\n",
       "      <td>10.0</td>\n",
       "      <td>0</td>\n",
       "    </tr>\n",
       "    <tr>\n",
       "      <th>28239659.0</th>\n",
       "      <td>2</td>\n",
       "      <td>6</td>\n",
       "      <td>52.54390</td>\n",
       "      <td>13.42881</td>\n",
       "      <td>1</td>\n",
       "      <td>0</td>\n",
       "      <td>4.0</td>\n",
       "      <td>1.0</td>\n",
       "      <td>1.0</td>\n",
       "      <td>2.0</td>\n",
       "      <td>2.0</td>\n",
       "      <td>30</td>\n",
       "      <td>98.0</td>\n",
       "      <td>10.0</td>\n",
       "      <td>10.0</td>\n",
       "      <td>10.0</td>\n",
       "      <td>10.0</td>\n",
       "      <td>10.0</td>\n",
       "      <td>10.0</td>\n",
       "      <td>0</td>\n",
       "    </tr>\n",
       "    <tr>\n",
       "      <th>34231139.0</th>\n",
       "      <td>1</td>\n",
       "      <td>5</td>\n",
       "      <td>52.48783</td>\n",
       "      <td>13.42376</td>\n",
       "      <td>1</td>\n",
       "      <td>0</td>\n",
       "      <td>3.0</td>\n",
       "      <td>1.0</td>\n",
       "      <td>1.0</td>\n",
       "      <td>1.0</td>\n",
       "      <td>1.0</td>\n",
       "      <td>1</td>\n",
       "      <td>100.0</td>\n",
       "      <td>10.0</td>\n",
       "      <td>10.0</td>\n",
       "      <td>10.0</td>\n",
       "      <td>10.0</td>\n",
       "      <td>10.0</td>\n",
       "      <td>10.0</td>\n",
       "      <td>0</td>\n",
       "    </tr>\n",
       "    <tr>\n",
       "      <th>4141363.0</th>\n",
       "      <td>1</td>\n",
       "      <td>5</td>\n",
       "      <td>52.47130</td>\n",
       "      <td>13.43878</td>\n",
       "      <td>1</td>\n",
       "      <td>1</td>\n",
       "      <td>2.0</td>\n",
       "      <td>1.0</td>\n",
       "      <td>1.0</td>\n",
       "      <td>1.0</td>\n",
       "      <td>1.0</td>\n",
       "      <td>2</td>\n",
       "      <td>80.0</td>\n",
       "      <td>10.0</td>\n",
       "      <td>8.0</td>\n",
       "      <td>10.0</td>\n",
       "      <td>10.0</td>\n",
       "      <td>8.0</td>\n",
       "      <td>8.0</td>\n",
       "      <td>0</td>\n",
       "    </tr>\n",
       "  </tbody>\n",
       "</table>\n",
       "<p>6327 rows × 20 columns</p>\n",
       "</div>"
      ],
      "text/plain": [
       "            Is Superhost  Neighborhood Group  Latitude  Longitude  \\\n",
       "Listing ID                                                          \n",
       "13338017.0             2                   1  52.50053   13.44184   \n",
       "2899239.0              1                   1  52.51647   13.45862   \n",
       "441586.0               1                   1  52.52481   13.44676   \n",
       "19036720.0             1                  10  52.46009   13.42204   \n",
       "8656349.0              1                   0  52.49952   13.32903   \n",
       "...                  ...                 ...       ...        ...   \n",
       "23369807.0             2                   0  52.50378   13.31480   \n",
       "2861405.0              1                  10  52.48460   13.35230   \n",
       "28239659.0             2                   6  52.54390   13.42881   \n",
       "34231139.0             1                   5  52.48783   13.42376   \n",
       "4141363.0              1                   5  52.47130   13.43878   \n",
       "\n",
       "            Property Type  Room Type  Accomodates  Bathrooms  Bedrooms  Beds  \\\n",
       "Listing ID                                                                     \n",
       "13338017.0              1          0          2.0        1.0       1.0   1.0   \n",
       "2899239.0               1          0          4.0        1.5       2.0   4.0   \n",
       "441586.0                1          1          2.0        1.0       1.0   2.0   \n",
       "19036720.0              1          1          3.0        1.0       3.0   4.0   \n",
       "8656349.0               1          0          3.0        2.0       2.0   2.0   \n",
       "...                   ...        ...          ...        ...       ...   ...   \n",
       "23369807.0              1          1          2.0        1.5       1.0   2.0   \n",
       "2861405.0               1          0          3.0        1.0       1.0   2.0   \n",
       "28239659.0              1          0          4.0        1.0       1.0   2.0   \n",
       "34231139.0              1          0          3.0        1.0       1.0   1.0   \n",
       "4141363.0               1          1          2.0        1.0       1.0   1.0   \n",
       "\n",
       "            Guests Included  Reviews  Overall Rating  Accuracy Rating  \\\n",
       "Listing ID                                                              \n",
       "13338017.0              2.0      131            97.0             10.0   \n",
       "2899239.0               2.0       22            75.0              8.0   \n",
       "441586.0                1.0       20            94.0             10.0   \n",
       "19036720.0              1.0       19            96.0             10.0   \n",
       "8656349.0               2.0       19            91.0             10.0   \n",
       "...                     ...      ...             ...              ...   \n",
       "23369807.0              1.0       84            96.0             10.0   \n",
       "2861405.0               1.0        1           100.0             10.0   \n",
       "28239659.0              2.0       30            98.0             10.0   \n",
       "34231139.0              1.0        1           100.0             10.0   \n",
       "4141363.0               1.0        2            80.0             10.0   \n",
       "\n",
       "            Cleanliness Rating  Checkin Rating  Communication Rating  \\\n",
       "Listing ID                                                             \n",
       "13338017.0                10.0            10.0                  10.0   \n",
       "2899239.0                  5.0             8.0                   8.0   \n",
       "441586.0                   9.0            10.0                   9.0   \n",
       "19036720.0                10.0            10.0                  10.0   \n",
       "8656349.0                  9.0            10.0                  10.0   \n",
       "...                        ...             ...                   ...   \n",
       "23369807.0                10.0            10.0                  10.0   \n",
       "2861405.0                 10.0            10.0                  10.0   \n",
       "28239659.0                10.0            10.0                  10.0   \n",
       "34231139.0                10.0            10.0                  10.0   \n",
       "4141363.0                  8.0            10.0                  10.0   \n",
       "\n",
       "            Location Rating  Value Rating  Instant Bookable  \n",
       "Listing ID                                                   \n",
       "13338017.0             10.0          10.0                 0  \n",
       "2899239.0               9.0           7.0                 0  \n",
       "441586.0                9.0           9.0                 1  \n",
       "19036720.0              9.0           9.0                 1  \n",
       "8656349.0               9.0          10.0                 0  \n",
       "...                     ...           ...               ...  \n",
       "23369807.0             10.0           9.0                 1  \n",
       "2861405.0              10.0          10.0                 0  \n",
       "28239659.0             10.0          10.0                 0  \n",
       "34231139.0             10.0          10.0                 0  \n",
       "4141363.0               8.0           8.0                 0  \n",
       "\n",
       "[6327 rows x 20 columns]"
      ]
     },
     "execution_count": 24,
     "metadata": {},
     "output_type": "execute_result"
    }
   ],
   "source": [
    "test_df"
   ]
  },
  {
   "cell_type": "code",
   "execution_count": 28,
   "metadata": {},
   "outputs": [
    {
     "data": {
      "text/html": [
       "<div>\n",
       "<style scoped>\n",
       "    .dataframe tbody tr th:only-of-type {\n",
       "        vertical-align: middle;\n",
       "    }\n",
       "\n",
       "    .dataframe tbody tr th {\n",
       "        vertical-align: top;\n",
       "    }\n",
       "\n",
       "    .dataframe thead th {\n",
       "        text-align: right;\n",
       "    }\n",
       "</style>\n",
       "<table border=\"1\" class=\"dataframe\">\n",
       "  <thead>\n",
       "    <tr style=\"text-align: right;\">\n",
       "      <th></th>\n",
       "      <th>predicted_price</th>\n",
       "    </tr>\n",
       "    <tr>\n",
       "      <th>Listing ID</th>\n",
       "      <th></th>\n",
       "    </tr>\n",
       "  </thead>\n",
       "  <tbody>\n",
       "    <tr>\n",
       "      <th>13338017.0</th>\n",
       "      <td>68.384537</td>\n",
       "    </tr>\n",
       "    <tr>\n",
       "      <th>2899239.0</th>\n",
       "      <td>98.793175</td>\n",
       "    </tr>\n",
       "    <tr>\n",
       "      <th>441586.0</th>\n",
       "      <td>40.092072</td>\n",
       "    </tr>\n",
       "    <tr>\n",
       "      <th>19036720.0</th>\n",
       "      <td>64.677467</td>\n",
       "    </tr>\n",
       "    <tr>\n",
       "      <th>8656349.0</th>\n",
       "      <td>129.119370</td>\n",
       "    </tr>\n",
       "  </tbody>\n",
       "</table>\n",
       "</div>"
      ],
      "text/plain": [
       "            predicted_price\n",
       "Listing ID                 \n",
       "13338017.0        68.384537\n",
       "2899239.0         98.793175\n",
       "441586.0          40.092072\n",
       "19036720.0        64.677467\n",
       "8656349.0        129.119370"
      ]
     },
     "execution_count": 28,
     "metadata": {},
     "output_type": "execute_result"
    }
   ],
   "source": [
    "pred_price = pd.DataFrame(xgb_model.predict(test_df.values),index=test_df.index)\n",
    "pred_price = pred_price.rename(columns={0:'predicted_price'})\n",
    "pred_price.to_csv('predicted_price.csv')\n",
    "pred_price.head()"
   ]
  },
  {
   "cell_type": "markdown",
   "metadata": {},
   "source": [
    "### predict custom data "
   ]
  },
  {
   "cell_type": "code",
   "execution_count": 26,
   "metadata": {},
   "outputs": [
    {
     "data": {
      "text/plain": [
       "array([[  2.     ,   1.     ,  52.50053,  13.44184,   1.     ,   0.     ,\n",
       "          2.     ,   1.     ,   1.     ,   1.     ,   2.     , 131.     ,\n",
       "         97.     ,  10.     ,  10.     ,  10.     ,  10.     ,  10.     ,\n",
       "         10.     ,   0.     ],\n",
       "       [  1.     ,   1.     ,  52.51647,  13.45862,   1.     ,   0.     ,\n",
       "          4.     ,   1.5    ,   2.     ,   4.     ,   2.     ,  22.     ,\n",
       "         75.     ,   8.     ,   5.     ,   8.     ,   8.     ,   9.     ,\n",
       "          7.     ,   0.     ]])"
      ]
     },
     "execution_count": 26,
     "metadata": {},
     "output_type": "execute_result"
    }
   ],
   "source": [
    "test_data = np.array([['t' , 'Friedrichshain-Kreuzberg' ,52.50053,13.44184,'Apartment' , 'Entire home/apt' ,\n",
    "2. , 1. , 1. , 1. , 2. , 131. , 97. ,10. ,10. ,10. ,10. ,10. , 10. , 'f' ],\n",
    " ['f' , 'Friedrichshain-Kreuzberg' ,52.51647,13.45862, 'Apartment' , 'Entire home/apt' ,4. , 1.5, 2. , 4. , 2. ,22. , 75. ,\n",
    "  8. , 5. , 8. , 8. , 9. ,7. , 'f' ]])\n",
    "test_data = dataPipe(test_data)\n",
    "test_data\n",
    "  "
   ]
  },
  {
   "cell_type": "code",
   "execution_count": 27,
   "metadata": {},
   "outputs": [
    {
     "data": {
      "text/plain": [
       "array([68.38454 , 98.793175], dtype=float32)"
      ]
     },
     "execution_count": 27,
     "metadata": {},
     "output_type": "execute_result"
    }
   ],
   "source": [
    "xgb_model.predict(test_data)"
   ]
  },
  {
   "cell_type": "code",
   "execution_count": 32,
   "metadata": {},
   "outputs": [
    {
     "name": "stdout",
     "output_type": "stream",
     "text": [
      "[68.38454  98.793175]\n"
     ]
    }
   ],
   "source": [
    "print(pred_price.iloc[:2,0].values)"
   ]
  },
  {
   "cell_type": "code",
   "execution_count": null,
   "metadata": {},
   "outputs": [],
   "source": []
  }
 ],
 "metadata": {
  "kernelspec": {
   "display_name": "Python 3",
   "language": "python",
   "name": "python3"
  },
  "language_info": {
   "codemirror_mode": {
    "name": "ipython",
    "version": 3
   },
   "file_extension": ".py",
   "mimetype": "text/x-python",
   "name": "python",
   "nbconvert_exporter": "python",
   "pygments_lexer": "ipython3",
   "version": "3.10.4 (tags/v3.10.4:9d38120, Mar 23 2022, 23:13:41) [MSC v.1929 64 bit (AMD64)]"
  },
  "orig_nbformat": 4,
  "vscode": {
   "interpreter": {
    "hash": "26de051ba29f2982a8de78e945f0abaf191376122a1563185a90213a26c5da77"
   }
  }
 },
 "nbformat": 4,
 "nbformat_minor": 2
}
